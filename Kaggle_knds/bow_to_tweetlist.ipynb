{
 "cells": [
  {
   "cell_type": "code",
   "execution_count": 1,
   "metadata": {},
   "outputs": [],
   "source": [
    "import numpy as np\n",
    "import pandas as pd\n",
    "import csv"
   ]
  },
  {
   "cell_type": "code",
   "execution_count": 2,
   "metadata": {},
   "outputs": [
    {
     "data": {
      "text/plain": [
       "0        our deed be the Reason of this # earthquake m...\n",
       "1                 forest fire near La Ronge Sask . Canada\n",
       "2        all resident ask to ' shelter in place ' be b...\n",
       "3        13,000 people receive # wildfire evacuation o...\n",
       "4        just got send this photo from Ruby # Alaska a...\n",
       "                              ...                        \n",
       "7608     two giant crane hold a bridge collapse into n...\n",
       "7609     @aria_ahrary @TheTawniest the out of control ...\n",
       "7610     M1.94 [ 01:04 utc]?5 km S of Volcano Hawaii ....\n",
       "7611     Police investigate after an e - bike collide ...\n",
       "7612     the late : More home raze by Northern Califor...\n",
       "Name: text, Length: 7613, dtype: object"
      ]
     },
     "execution_count": 2,
     "metadata": {},
     "output_type": "execute_result"
    }
   ],
   "source": [
    "lemmatized_train_df = pd.read_csv(\"data/lemmatized/train.csv\")\n",
    "lemmatized_test_df = pd.read_csv(\"data/lemmatized/test.csv\")\n",
    "lem_tweets: str = lemmatized_train_df.text"
   ]
  },
  {
   "cell_type": "code",
   "execution_count": null,
   "metadata": {},
   "outputs": [],
   "source": [
    "bow = dict()\n",
    "key = 0\n",
    "for word in lem_tweets:\n",
    "    for word in lem_tweets.split(\" \"):\n",
    "        word = word.lower()\n",
    "        if word in bow or word == \"\":\n",
    "            continue\n",
    "        \n",
    "        bow[word] = max_index"
   ]
  }
 ],
 "metadata": {
  "interpreter": {
   "hash": "9bdce408c87f4eb668e1917b7feebb20d95ee31fab34e06aa8103d269ca5db77"
  },
  "kernelspec": {
   "display_name": "Python 3.8.8 64-bit ('base': conda)",
   "language": "python",
   "name": "python3"
  },
  "language_info": {
   "codemirror_mode": {
    "name": "ipython",
    "version": 3
   },
   "file_extension": ".py",
   "mimetype": "text/x-python",
   "name": "python",
   "nbconvert_exporter": "python",
   "pygments_lexer": "ipython3",
   "version": "3.8.8"
  },
  "orig_nbformat": 4
 },
 "nbformat": 4,
 "nbformat_minor": 2
}
